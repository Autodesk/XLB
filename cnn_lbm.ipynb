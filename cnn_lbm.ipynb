{
 "cells": [
  {
   "metadata": {
    "ExecuteTime": {
     "end_time": "2024-06-14T09:37:32.867891Z",
     "start_time": "2024-06-14T09:37:31.025858Z"
    }
   },
   "cell_type": "code",
   "source": [
    "import os\n",
    "import json\n",
    "import jax\n",
    "from time import time\n",
    "from jax import config\n",
    "import numpy as np\n",
    "import jax.numpy as jnp\n",
    "import flax.linen as nn\n",
    "from termcolor import colored\n",
    "\n",
    "from src.utils import *\n",
    "from src.boundary_conditions import *\n",
    "from src.models import BGKSim, KBCSim\n",
    "from src.lattice import LatticeD2Q9\n",
    "\n",
    "# Use 8 CPU devices\n",
    "# os.environ[\"XLA_FLAGS\"] = '--xla_force_host_platform_device_count=8'\n",
    "jax.config.update('jax_enable_x64', True)\n"
   ],
   "id": "5f01967c372d1b78",
   "outputs": [],
   "execution_count": 1
  },
  {
   "cell_type": "code",
   "id": "initial_id",
   "metadata": {
    "collapsed": true
   },
   "source": [
    "class Cylinder(BGKSim):\n",
    "    def __init__(self, **kwargs):\n",
    "        super().__init__(**kwargs)\n",
    "\n",
    "    def set_boundary_conditions(self):\n",
    "        # Define the cylinder surface\n",
    "        coord = np.array([(i, j) for i in range(self.nx) for j in range(self.ny)])\n",
    "        xx, yy = coord[:, 0], coord[:, 1]\n",
    "        cx, cy = 2.*_diam, 2.*_diam\n",
    "        cylinder = (xx - cx)**2 + (yy-cy)**2 <= (_diam/2.)**2\n",
    "        cylinder = coord[cylinder]\n",
    "        implicit_distance = np.reshape((xx - cx)**2 + (yy-cy)**2 - (_diam/2.)**2, (self.nx, self.ny))\n",
    "        self.BCs.append(InterpolatedBounceBackBouzidi(tuple(cylinder.T), implicit_distance, self.gridInfo, self.precisionPolicy))\n",
    "\n",
    "        # Outflow BC\n",
    "        outlet = self.boundingBoxIndices['right']\n",
    "        rho_outlet = np.ones((outlet.shape[0], 1), dtype=self.precisionPolicy.compute_dtype)\n",
    "        self.BCs.append(ExtrapolationOutflow(tuple(outlet.T), self.gridInfo, self.precisionPolicy))\n",
    "        # self.BCs.append(ZouHe(tuple(outlet.T), self.gridInfo, self.precisionPolicy, 'pressure', rho_outlet))\n",
    "\n",
    "        # Inlet BC\n",
    "        inlet = self.boundingBoxIndices['left']\n",
    "        rho_inlet = np.ones((inlet.shape[0], 1), dtype=self.precisionPolicy.compute_dtype)\n",
    "        vel_inlet = np.zeros(inlet.shape, dtype=self.precisionPolicy.compute_dtype)\n",
    "        yy_inlet = yy.reshape(self.nx, self.ny)[tuple(inlet.T)]\n",
    "        vel_inlet[:, 0] = poiseuille_profile(yy_inlet,\n",
    "                                             yy_inlet.min(),\n",
    "                                             yy_inlet.max()-yy_inlet.min(), 3.0 / 2.0 * _prescribed_vel)\n",
    "        self.BCs.append(Regularized(tuple(inlet.T), self.gridInfo, self.precisionPolicy, 'velocity', vel_inlet))\n",
    "\n",
    "        # No-slip BC for top and bottom\n",
    "        wall = np.concatenate([self.boundingBoxIndices['top'], self.boundingBoxIndices['bottom']])\n",
    "        vel_wall = np.zeros(wall.shape, dtype=self.precisionPolicy.compute_dtype)\n",
    "        self.BCs.append(Regularized(tuple(wall.T), self.gridInfo, self.precisionPolicy, 'velocity', vel_wall))\n",
    "\n",
    "    def output_data(self, **kwargs):\n",
    "        self.saved_data.append(kwargs)\n",
    "        # 1:-1 to remove boundary voxels (not needed for visualization when using bounce-back)\n",
    "    \n",
    "    def get_force(self):\n",
    "        pass\n",
    "\n",
    "# Helper function to specify a parabolic poiseuille profile\n",
    "poiseuille_profile  = lambda x,x0,d,umax: np.maximum(0.,4.*umax/(d**2)*((x-x0)*d-(x-x0)**2))"
   ],
   "outputs": [],
   "execution_count": null
  },
  {
   "metadata": {},
   "cell_type": "code",
   "source": [
    "from flax import linen as nn\n",
    "\n",
    "class ConvBlock(nn.Module):\n",
    "  \"\"\"Defines a convolutional block with activation and normalization.\"\"\"\n",
    "  features: int\n",
    "  kernel_size: int = (3,3)\n",
    "  strides: int = 1\n",
    "\n",
    "  @nn.compact\n",
    "  def __call__(self, inputs):\n",
    "    x = nn.Conv(self.features, kernel_size=self.kernel_size, strides=self.strides, padding='SAME')(inputs)\n",
    "    x = nn.BatchNorm(use_running_average=True)(x)\n",
    "    x = nn.relu(x)\n",
    "    return x\n",
    "\n",
    "class DownBlock(nn.Module):\n",
    "  \"\"\"Downsamples feature maps through convolutions and pooling.\"\"\"\n",
    "  features: int\n",
    "  pool_factor: int = 2\n",
    "\n",
    "  @nn.compact\n",
    "  def __call__(self, x):\n",
    "    x = ConvBlock(self.features)(x)\n",
    "    x = ConvBlock(self.features)(x)\n",
    "    return x\n",
    "\n",
    "class UpBlock(nn.Module):\n",
    "  \"\"\"Upsamples feature maps and concatenates with features from the contracting path.\"\"\"\n",
    "  features: int\n",
    "  up_factor: int = 2\n",
    "\n",
    "  @nn.compact\n",
    "  def __call__(self, x):\n",
    "    x = ConvBlock(self.features)(x)\n",
    "    x = ConvBlock(self.features)(x)\n",
    "    x = nn.ConvTranspose(self.features, kernel_size=(2, 2), strides=self.up_factor, padding='VALID')(x)\n",
    "    return x\n",
    "\n",
    "class UNet(nn.Module):\n",
    "  \"\"\"UNet architecture with contracting and expanding paths.\"\"\"\n",
    "  features_start: int = 64\n",
    "\n",
    "  @nn.compact\n",
    "  def __call__(self, x):\n",
    "    input_shape = x.shape\n",
    "    # Contracting path\n",
    "    down1 = DownBlock(self.features_start * 2)(x)\n",
    "    down1_max_pooled = nn.max_pool(down1, window_shape=(2, 2), strides=(2, 2))\n",
    "    down2 = DownBlock(self.features_start * 4)(down1_max_pooled)\n",
    "    down2_max_pooled = nn.max_pool(down2, window_shape=(2, 2), strides=(2, 2))\n",
    "    down3 = DownBlock(self.features_start * 8)(down2_max_pooled)\n",
    "    down3_max_pooled = nn.max_pool(down3, window_shape=(2, 2), strides=(2, 2))\n",
    "    down4 = DownBlock(self.features_start * 16)(down3_max_pooled)\n",
    "    down4_max_pooled = nn.max_pool(down4, window_shape=(2, 2), strides=(2, 2))\n",
    "    \n",
    "    # Expanding path with concatenation\n",
    "    up1 = UpBlock(self.features_start * 16)(down4_max_pooled)\n",
    "    down4_sliced = jax.lax.slice(down4, (4, 4, 0),(down4.shape[0]-4, down4.shape[1]-4, down4.shape[2]))\n",
    "    up1_concatenated = jax.lax.concatenate([down4_sliced, up1], dimension=2)\n",
    "    up2 = UpBlock(self.features_start * 4)(up1_concatenated)\n",
    "    down3_sliced = jax.lax.slice(down3, (4, 4, 0), (down3.shape[0]-4, down3.shape[1]-4, down3.shape[2]))\n",
    "    up2_concatenated = jax.lax.concatenate([down3_sliced, up2], dimension=2)\n",
    "    up3 = UpBlock(self.features_start * 2)(up2_concatenated)\n",
    "    print(up3.shape)\n",
    "    return up3\n",
    "  \n",
    "class SimpleNet(nn.Module):\n",
    "    features: int = 32\n",
    "    kernel_size: int = (5, 5)\n",
    "    strides: int = 1\n",
    "    @nn.compact\n",
    "    def __call__(self, x):\n",
    "        x = nn.Conv(self.features, kernel_size=self.kernel_size, strides=self.strides, padding='SAME')(x)\n",
    "        x = nn.leaky_relu(x)\n",
    "        x = nn.Conv(self.features, kernel_size=self.kernel_size, strides=self.strides, padding='SAME')(x)\n",
    "        x = nn.leaky_relu(x)\n",
    "        x = nn.Conv(self.features, kernel_size=self.kernel_size, strides=self.strides, padding='SAME')(x)\n",
    "        x = nn.leaky_relu(x)\n",
    "        x = nn.Conv(2, kernel_size=self.kernel_size, strides=self.strides, padding='SAME')(x)\n",
    "        return x\n",
    "        "
   ],
   "id": "24956e5445796c4d",
   "outputs": [],
   "execution_count": null
  },
  {
   "metadata": {},
   "cell_type": "code",
   "source": [
    "my_unet = SimpleNet()\n",
    "print(my_unet.tabulate(jax.random.key(0), jnp.ones((64,32,3)),\n",
    "                   compute_flops=True, compute_vjp_flops=True)) # check parameters, should be 55,298 in total"
   ],
   "id": "fd25f80b7701e604",
   "outputs": [],
   "execution_count": null
  },
  {
   "metadata": {},
   "cell_type": "code",
   "source": [
    "def generate_sim_dataaset(diam, timestep_offset, timestep_stride, timestep_end):\n",
    "    global _diam\n",
    "    global _prescribed_vel\n",
    "    _diam = diam\n",
    "    precision = 'f64/f64'\n",
    "    # diam_list = [10, 20, 30, 40, 60, 80]\n",
    "    scale_factor = 80 / diam\n",
    "    prescribed_vel = 0.003 * scale_factor\n",
    "    _prescribed_vel = prescribed_vel\n",
    "    lattice = LatticeD2Q9(precision)\n",
    "\n",
    "    nx = int(22*diam)\n",
    "    ny = int(4.1*diam)\n",
    "\n",
    "    Re = 100.0\n",
    "    visc = prescribed_vel * diam / Re\n",
    "    omega = 1.0 / (3. * visc + 0.5)\n",
    "    \n",
    "    os.system('rm -rf ./*.vtk && rm -rf ./*.png')\n",
    "\n",
    "    kwargs = {\n",
    "        'lattice': lattice,\n",
    "        'omega': omega,\n",
    "        'nx': nx,\n",
    "        'ny': ny,\n",
    "        'nz': 0,\n",
    "        'precision': precision,\n",
    "        'io_rate': timestep_stride,\n",
    "        'return_fpost': True    # Need to retain fpost-collision for computation of lift and drag\n",
    "    }\n",
    "    # characteristic time\n",
    "    tc = prescribed_vel/diam\n",
    "    niter_max = timestep_end\n",
    "    if timestep_end < int(100//tc):\n",
    "        print(colored(\"WARNING: timestep_end is too small, Karman flow may not appear\", \"red\"))\n",
    "    sim = Cylinder(**kwargs)\n",
    "    sim.run(niter_max)\n",
    "    return sim.saved_data"
   ],
   "id": "33fcbd1555db15ba",
   "outputs": [],
   "execution_count": null
  },
  {
   "metadata": {},
   "cell_type": "code",
   "source": "generated_data = generate_sim_dataaset(10, 0, 500, 20000)",
   "id": "d27b5c0ba8a1ca75",
   "outputs": [],
   "execution_count": null
  },
  {
   "metadata": {
    "ExecuteTime": {
     "end_time": "2024-06-14T09:37:42.104132Z",
     "start_time": "2024-06-14T09:37:42.101365Z"
    }
   },
   "cell_type": "code",
   "source": [
    "from tqdm import tqdm\n",
    "import numpy as np\n",
    "\n",
    "def read_data():\n",
    "    res_data = []\n",
    "    total_batch = 1\n",
    "    for i in tqdm(range(total_batch)):\n",
    "        loaded_data = jnp.load('./data/ref_data_diam_80_seq_{}.npy'.format(i))\n",
    "        res_data.append(loaded_data)\n",
    "    return jnp.concatenate(res_data, axis=0)\n",
    "\n",
    "def read_data_and_downsample():\n",
    "    res_data = []\n",
    "    total_batch = 10\n",
    "    for i in tqdm(range(total_batch)):\n",
    "        loaded_data = np.load('./data/ref_data_diam_80_seq_{}.npy'.format(i))\n",
    "        downsampled_list = [downsample_field(field, 8) for field in loaded_data]\n",
    "        res_data.append(downsampled_list)\n",
    "    return np.concatenate(res_data, axis=0)"
   ],
   "id": "303bd2a9d630a5db",
   "outputs": [],
   "execution_count": 3
  },
  {
   "metadata": {
    "ExecuteTime": {
     "end_time": "2024-06-14T09:37:46.612283Z",
     "start_time": "2024-06-14T09:37:43.244865Z"
    }
   },
   "cell_type": "code",
   "source": "output_data = read_data()",
   "id": "9d3ea2a82b59285c",
   "outputs": [
    {
     "name": "stderr",
     "output_type": "stream",
     "text": [
      "100%|██████████| 1/1 [00:03<00:00,  3.36s/it]\n"
     ]
    }
   ],
   "execution_count": 4
  },
  {
   "metadata": {
    "ExecuteTime": {
     "end_time": "2024-06-14T09:37:50.606198Z",
     "start_time": "2024-06-14T09:37:50.338744Z"
    }
   },
   "cell_type": "code",
   "source": "output_data[0]",
   "id": "a98559d6caaa944f",
   "outputs": [
    {
     "data": {
      "text/plain": [
       "Array([[[-5.79231617e-05,  1.29113880e-05],\n",
       "        [ 5.48775356e-05,  0.00000000e+00],\n",
       "        [ 1.09418399e-04,  0.00000000e+00],\n",
       "        ...,\n",
       "        [ 1.09418399e-04,  0.00000000e+00],\n",
       "        [ 5.48775356e-05,  0.00000000e+00],\n",
       "        [-4.99685732e-05, -1.85080848e-05]],\n",
       "\n",
       "       [[-1.38035543e-17,  0.00000000e+00],\n",
       "        [ 3.75266060e-05, -4.36268517e-05],\n",
       "        [ 1.01912962e-04, -1.85456908e-05],\n",
       "        ...,\n",
       "        [ 1.00890235e-04,  1.93246992e-05],\n",
       "        [ 4.39215389e-05,  3.27327658e-05],\n",
       "        [ 0.00000000e+00,  0.00000000e+00]],\n",
       "\n",
       "       [[ 0.00000000e+00,  0.00000000e+00],\n",
       "        [ 3.30232786e-05,  1.34797579e-05],\n",
       "        [ 1.13430050e-04, -1.54233424e-07],\n",
       "        ...,\n",
       "        [ 1.13657093e-04,  3.82971936e-08],\n",
       "        [ 3.46938178e-05, -6.46296743e-06],\n",
       "        [ 0.00000000e+00,  0.00000000e+00]],\n",
       "\n",
       "       ...,\n",
       "\n",
       "       [[ 0.00000000e+00,  0.00000000e+00],\n",
       "        [ 2.99285022e-04, -7.16855591e-07],\n",
       "        [ 6.20223212e-04, -1.18489453e-06],\n",
       "        ...,\n",
       "        [ 6.30808341e-04,  1.01782667e-06],\n",
       "        [ 3.10649336e-04,  5.05571960e-07],\n",
       "        [ 0.00000000e+00,  0.00000000e+00]],\n",
       "\n",
       "       [[ 0.00000000e+00,  0.00000000e+00],\n",
       "        [ 2.98865499e-04, -4.53379980e-07],\n",
       "        [ 6.19941780e-04, -9.12080167e-07],\n",
       "        ...,\n",
       "        [ 6.30340047e-04,  1.31437988e-06],\n",
       "        [ 3.10252670e-04,  8.63892675e-07],\n",
       "        [ 0.00000000e+00,  0.00000000e+00]],\n",
       "\n",
       "       [[ 9.35668997e-08, -5.29000752e-09],\n",
       "        [ 2.98362447e-04, -2.49023650e-07],\n",
       "        [ 6.19663841e-04, -5.98067960e-07],\n",
       "        ...,\n",
       "        [ 6.29694739e-04,  1.65202271e-06],\n",
       "        [ 3.09539243e-04,  1.08795364e-06],\n",
       "        [ 4.86839353e-07,  1.62021086e-07]]], dtype=float64)"
      ]
     },
     "execution_count": 5,
     "metadata": {},
     "output_type": "execute_result"
    }
   ],
   "execution_count": 5
  },
  {
   "metadata": {
    "ExecuteTime": {
     "end_time": "2024-06-14T09:38:02.776584Z",
     "start_time": "2024-06-14T09:38:02.774058Z"
    }
   },
   "cell_type": "code",
   "source": [
    "import matplotlib.pyplot as plt\n",
    "def visualize_data(data, imgs=20):\n",
    "    fig, axs = plt.subplots(1, imgs)\n",
    "    for i in range(imgs):\n",
    "        img = (data[i*(data.shape[1]//imgs)] + 0.2)/0.27\n",
    "        img = np.concatenate((img, np.zeros((img.shape[0], img.shape[1], 1))), axis=2)\n",
    "        print(img.shape)\n",
    "        axs[i].imshow(img)"
   ],
   "id": "ea4b57077c84fade",
   "outputs": [],
   "execution_count": 6
  },
  {
   "metadata": {
    "ExecuteTime": {
     "end_time": "2024-06-14T09:38:04.898742Z",
     "start_time": "2024-06-14T09:38:03.985957Z"
    }
   },
   "cell_type": "code",
   "source": "visualize_data(output_data, 10)",
   "id": "30a7e79bb7e5d5ac",
   "outputs": [
    {
     "name": "stdout",
     "output_type": "stream",
     "text": [
      "(1760, 328, 3)\n",
      "(1760, 328, 3)\n",
      "(1760, 328, 3)\n",
      "(1760, 328, 3)\n",
      "(1760, 328, 3)\n",
      "(1760, 328, 3)\n",
      "(1760, 328, 3)\n",
      "(1760, 328, 3)\n",
      "(1760, 328, 3)\n",
      "(1760, 328, 3)\n"
     ]
    },
    {
     "data": {
      "text/plain": [
       "<Figure size 640x480 with 10 Axes>"
      ],
      "image/png": "[encoded data removed]"
     },
     "metadata": {},
     "output_type": "display_data"
    }
   ],
   "execution_count": 7
  }
 ],
 "metadata": {
  "kernelspec": {
   "display_name": "Python 3",
   "language": "python",
   "name": "python3"
  },
  "language_info": {
   "codemirror_mode": {
    "name": "ipython",
    "version": 2
   },
   "file_extension": ".py",
   "mimetype": "text/x-python",
   "name": "python",
   "nbconvert_exporter": "python",
   "pygments_lexer": "ipython2",
   "version": "2.7.6"
  }
 },
 "nbformat": 4,
 "nbformat_minor": 5
}
